{
 "cells": [
  {
   "cell_type": "code",
   "execution_count": 1,
   "id": "070954e4",
   "metadata": {},
   "outputs": [
    {
     "name": "stdout",
     "output_type": "stream",
     "text": [
      "Hernandez High School\n",
      "Figueroa High School\n",
      "Wilson High School\n",
      "Wright High School\n"
     ]
    }
   ],
   "source": [
    "# List of high schools \n",
    "high_schools = ['Hernandez High School','Figueroa High School','Wilson High School','Wright High School']\n",
    "\n",
    "for school in high_schools: \n",
    "    print(school)"
   ]
  },
  {
   "cell_type": "code",
   "execution_count": 6,
   "id": "edb50ded",
   "metadata": {},
   "outputs": [
    {
     "name": "stdout",
     "output_type": "stream",
     "text": [
      "{'High School': 'Griffin', 'Type': 'District'}\n",
      "{'High School': 'Figueroa', 'Type': 'District'}\n",
      "{'High School': 'Wilson', 'Type': 'Charter'}\n",
      "{'High School': 'Wright', 'Type': 'Charter'}\n"
     ]
    }
   ],
   "source": [
    "# A dictionary of high schools and the type of school\n",
    "high_school_types = [{'High School':'Griffin','Type':'District'},{'High School':'Figueroa','Type':'District'},{'High School':'Wilson','Type':'Charter'},{'High School':'Wright','Type':'Charter'}]\n",
    "\n",
    "for school in high_school_types:\n",
    "    print(school)\n",
    "# 4.3.4\n"
   ]
  },
  {
   "cell_type": "code",
   "execution_count": null,
   "id": "31818b8e",
   "metadata": {},
   "outputs": [],
   "source": []
  }
 ],
 "metadata": {
  "kernelspec": {
   "display_name": "Python 3 (ipykernel)",
   "language": "python",
   "name": "python3"
  },
  "language_info": {
   "codemirror_mode": {
    "name": "ipython",
    "version": 3
   },
   "file_extension": ".py",
   "mimetype": "text/x-python",
   "name": "python",
   "nbconvert_exporter": "python",
   "pygments_lexer": "ipython3",
   "version": "3.9.7"
  }
 },
 "nbformat": 4,
 "nbformat_minor": 5
}
